{
 "cells": [
  {
   "cell_type": "markdown",
   "metadata": {},
   "source": [
    "## COMP3670/6670 Programming Assignment 2 - Clustering and Vector Calculus\n",
    "---\n",
    "\n",
    "**Enter Your Student ID: u7205329** \n",
    "\n",
    "**Your Name: Thao Pham**\n",
    "    \n",
    "**Deadline: 23:59 13 September 2020**\n",
    "\n",
    "**Submit:** Write your answers in this file, and submit a single Jupyter Notebook file (.ipynb) on Wattle. Rename this file with your student number as 'uXXXXXXX.ipynb'.\n",
    "\n",
    "**Enter Discussion Partner IDs Below:**\n",
    "You could add more IDs with the same markdown format above.\n",
    "\n",
    "**Programming Section**:\n",
    "- 1.1: 15%\n",
    "- 1.2: 20%\n",
    "- 2.1: 10%\n",
    "- 2.2: 15%\n",
    "- 2.3: 15%\n",
    "- 2.4: 10%\n",
    "- 2.5: 10%\n",
    "- 2.6: 5%"
   ]
  },
  {
   "cell_type": "code",
   "execution_count": 1,
   "metadata": {},
   "outputs": [],
   "source": [
    "import numpy as np\n",
    "import matplotlib.pyplot as plt\n",
    "import math\n",
    "from IPython.core.display import HTML\n",
    "\n",
    "np.random.seed(1)\n"
   ]
  },
  {
   "cell_type": "markdown",
   "metadata": {},
   "source": [
    "## Task1: Vector Calculus \n",
    "-----------\n",
    "This part is about vector calculus. In this section, we will use the rigorous definition of the derivative to calculus it.\n",
    "$$ f'(a) = \\lim_{h \\to 0}\\dfrac{f(a + h) - f(a)}{h}$$\n",
    "Now, expand it to vectors.\n",
    "\n",
    "-----\n",
    "**Task 1.1:** Calculate the gradient of $f(\\textbf{x}) = \\textbf{x}^T\\textbf{a}$ respect to $\\textbf{x}$.     $\\textbf{x}, \\textbf{a} \\in \\mathbb{R}^N$"
   ]
  },
  {
   "cell_type": "code",
   "execution_count": 2,
   "metadata": {},
   "outputs": [],
   "source": [
    "N = 10\n",
    "x = np.random.rand(N)\n",
    "a = np.random.rand(N)"
   ]
  },
  {
   "cell_type": "markdown",
   "metadata": {},
   "source": [
    "**Student's Note:** When calculating by hand, we have derived $\\frac{df(\\textbf{x})}{d\\textbf{x}} = \\textbf{a}^T$. We want to compare our final answer with this. "
   ]
  },
  {
   "cell_type": "code",
   "execution_count": 3,
   "metadata": {},
   "outputs": [],
   "source": [
    "def derive_function1(x, a, N):\n",
    "    # The answer is a vector\n",
    "    # Please follow the rigorous defination of derivative to answer this question\n",
    "    # Directly return the conclusion from textbook will not receive any mark.\n",
    "    \n",
    "    h = 1e-4\n",
    "    # Your Code Here\n",
    "    \n",
    "    answer = np.zeros(N)\n",
    "    fx = np.dot(x,a)\n",
    "    \n",
    "    i = 0\n",
    "    while i < len(x):\n",
    "        \n",
    "        new_x = np.zeros(N)\n",
    "        \n",
    "        n = 0\n",
    "        while n < len(x):\n",
    "            if n == i:\n",
    "                new_x[n] = x[n] + h\n",
    "            else:\n",
    "                new_x[n] = x[n] \n",
    "            n += 1\n",
    "        \n",
    "        f_XplusH = np.dot(new_x,a)\n",
    "        derivs = (f_XplusH - fx)/h\n",
    "        answer[i] = derivs\n",
    "        \n",
    "        i += 1\n",
    "\n",
    "    return answer\n"
   ]
  },
  {
   "cell_type": "code",
   "execution_count": 4,
   "metadata": {},
   "outputs": [
    {
     "data": {
      "text/plain": [
       "array([0.41919451, 0.6852195 , 0.20445225, 0.87811744, 0.02738759,\n",
       "       0.67046751, 0.4173048 , 0.55868983, 0.14038694, 0.19810149])"
      ]
     },
     "execution_count": 4,
     "metadata": {},
     "output_type": "execute_result"
    }
   ],
   "source": [
    "derive_function1(x,a,N)"
   ]
  },
  {
   "cell_type": "code",
   "execution_count": 5,
   "metadata": {},
   "outputs": [
    {
     "data": {
      "text/plain": [
       "array([0.41919451, 0.6852195 , 0.20445225, 0.87811744, 0.02738759,\n",
       "       0.67046751, 0.4173048 , 0.55868983, 0.14038694, 0.19810149])"
      ]
     },
     "execution_count": 5,
     "metadata": {},
     "output_type": "execute_result"
    }
   ],
   "source": [
    "a"
   ]
  },
  {
   "cell_type": "markdown",
   "metadata": {},
   "source": [
    "-----\n",
    "**Task 1.2:** Calculate the gradient of $f(\\textbf{x}) = \\textbf{x}^TB\\textbf{x}$ respect to $\\textbf{x}$.     $\\textbf{x}\\in \\mathbb{R}^N, B\\in \\mathbb{R}^{N\\times N}$"
   ]
  },
  {
   "cell_type": "code",
   "execution_count": 6,
   "metadata": {},
   "outputs": [],
   "source": [
    "x = np.random.rand(N)\n",
    "B = np.random.rand(N, N)"
   ]
  },
  {
   "cell_type": "markdown",
   "metadata": {},
   "source": [
    "**Student's Note:** When calculating by hand, we have derived $\\frac{df(\\textbf{x})}{d\\textbf{x}} = \\textbf{x}^T(\\textbf{B}+\\textbf{B}^T)$. We want to compare our final answer with this. "
   ]
  },
  {
   "cell_type": "code",
   "execution_count": 7,
   "metadata": {},
   "outputs": [],
   "source": [
    "def func(x, B):\n",
    "    xT = x.T\n",
    "    xTB = xT@B\n",
    "    return xTB @ x"
   ]
  },
  {
   "cell_type": "code",
   "execution_count": 8,
   "metadata": {},
   "outputs": [],
   "source": [
    "def derive_function2(x, B, N):\n",
    "    # The answer is a vector\n",
    "    # Please follow the rigorous defination of derivative to answer this question\n",
    "    # Directly return the conclusion from textbook will not receive any mark.\n",
    "    \n",
    "    h = 1e-5\n",
    "    # Your Code Here\n",
    "    \n",
    "    answer = np.zeros(N)\n",
    "    \n",
    "    i = 0\n",
    "    while i < len(x):\n",
    "        new_x = np.zeros(N)\n",
    "        n = 0\n",
    "        while n < len(x):\n",
    "            if n == i:\n",
    "                new_x[n] = x[n] + h\n",
    "            else:\n",
    "                new_x[n] = x[n]\n",
    "            n += 1\n",
    "        \n",
    "        derivs = (func(new_x, B) - func(x,B))/h\n",
    "        answer[i] = derivs\n",
    "        i += 1\n",
    "    return answer"
   ]
  },
  {
   "cell_type": "code",
   "execution_count": 9,
   "metadata": {},
   "outputs": [
    {
     "data": {
      "text/plain": [
       "array([5.56160702, 5.28064133, 4.80625464, 5.24104496, 5.08233431,\n",
       "       6.22524728, 6.71982088, 7.18585732, 4.74990674, 4.70465728])"
      ]
     },
     "execution_count": 9,
     "metadata": {},
     "output_type": "execute_result"
    }
   ],
   "source": [
    "derive_function2(x, B, N)"
   ]
  },
  {
   "cell_type": "code",
   "execution_count": 10,
   "metadata": {},
   "outputs": [
    {
     "data": {
      "text/plain": [
       "array([5.56160603, 5.28063384, 4.80625252, 5.24104082, 5.08233033,\n",
       "       6.22523833, 6.71981185, 7.18584803, 4.74989962, 4.70465449])"
      ]
     },
     "execution_count": 10,
     "metadata": {},
     "output_type": "execute_result"
    }
   ],
   "source": [
    "np.dot(x, B + B.T)"
   ]
  },
  {
   "cell_type": "markdown",
   "metadata": {},
   "source": [
    "## Task2: Clustering\n",
    "-----------\n",
    "These programming exercises will focus on K-means clustering. \n",
    "\n",
    "If you're unsure of how k-means works, read this very helpful and freely available online breakdown from Stanford's CS221 course; https://stanford.edu/~cpiech/cs221/handouts/kmeans.html\n",
    "\n",
    "This assignment requires you to loosely interpret how k-means is a specific case of a more general algorithm named Expectation Maximisation. This is explained toward the end of the above article.\n",
    "\n",
    "First, lets loading the dataset."
   ]
  },
  {
   "cell_type": "code",
   "execution_count": 11,
   "metadata": {},
   "outputs": [
    {
     "data": {
      "image/png": "[encoded data removed]",
      "text/plain": [
       "<Figure size 432x288 with 1 Axes>"
      ]
     },
     "metadata": {
      "needs_background": "light"
     },
     "output_type": "display_data"
    }
   ],
   "source": [
    "X = np.load(\"./data.npy\")\n",
    "plt.scatter(X[:,2], X[:,3])\n",
    "plt.show()"
   ]
  },
  {
   "cell_type": "markdown",
   "metadata": {},
   "source": [
    "The dataset contains 1000 4-dimensional samples. However, we don't know how many centroids it contains. The number of centroids is more than 5 but less than 10. We need to figure it out in the clustering procedure.\n",
    "\n",
    "-----\n",
    "\n",
    "K-means is a special, simple case of the Expectation Maximisation (EM) algorithm.\n",
    "\n",
    "This simplified EM (k-means), is divided into two steps.\n",
    "\n",
    "The **E-Step**, where for every sample in your dataset you find which \"centroid\" that datapoint is closest to that sample, and record that information.\n",
    "\n",
    "The **M-Step**, where you move each \"centroid\" to the center of the samples which were found to be closest to it in the **E-Step**.\n",
    "\n",
    "Each *centroid* is simply an estimated mean of a cluster. If you have $1$ centroid, then this centroid will become the mean of all your data.\n",
    "\n",
    "If each of your samples, such as the 400 you generated in the previous question, are of dimension $n$, then each of your centroids will be of dimension $n$.\n",
    "\n",
    "Centroids are initially random values, and the k-means algorithm attempts to modify them so that each one represents the center of a cluster.\n",
    "\n",
    "---\n",
    "\n",
    "**TASK 2.1:** Write a function $initialise\\_parameters(m, n, X) = C$ which generates $m$ centroids, each of dimension $n$, and stores them in a matrix $C \\in \\mathbb{R}^{m \\times n}$.\n",
    "\n",
    "No two centroids should be the same, and **must not** be hard coded. Generate these parameters using a sensible initialisation method such as those described in the first link below. You will be judged based on whether the method you choose is sensible and likely to result in kmeans converging to good result.\n",
    "\n",
    "---\n",
    "\n",
    "**HINT:** \n",
    "- https://en.wikipedia.org/wiki/K-means_clustering#Initialization_methods\n",
    "- https://docs.scipy.org/doc/numpy-1.15.1/reference/generated/numpy.random.randint.html"
   ]
  },
  {
   "cell_type": "markdown",
   "metadata": {},
   "source": [
    "**Student's Note:** The initialisation method that has been chosen for this task is the K-means++ method. After experimenting, I found that the Forgy method (choosing initial parameters at random) generally does not perform well albeit its low time complexity. On the other hand, K-means++ algorithm is a more specific approach as we are choosing new centers based on the chosen ones. The algorithm implemented below is a result of careful research and comprehension from the following websites\n",
    "\n",
    "- http://ilpubs.stanford.edu:8090/778/1/2006-13.pdf  \n",
    "- https://en.wikipedia.org/wiki/K-means%2B%2B"
   ]
  },
  {
   "cell_type": "code",
   "execution_count": 12,
   "metadata": {},
   "outputs": [],
   "source": [
    "def total_Dx(x, C):\n",
    "    Dx_list = []\n",
    "    indices = []\n",
    "    \n",
    "    for j in range(len(x)):\n",
    "        data_point = x[j]\n",
    "        \n",
    "        if data_point not in C:\n",
    "            distance_ls = [np.linalg.norm(data_point - centroid)**2 for centroid in C]\n",
    "            \n",
    "            Dx = min(distance_ls)\n",
    "            \n",
    "            Dx_list.append(Dx) # Dx\n",
    "            indices.append(j) # true position in x\n",
    "        j += 1\n",
    "\n",
    "    max_probs = max(Dx_list)\n",
    "    index = Dx_list.index(max_probs)\n",
    "    chosenC = indices[index]\n",
    "    \n",
    "    return X[chosenC]"
   ]
  },
  {
   "cell_type": "code",
   "execution_count": 13,
   "metadata": {},
   "outputs": [
    {
     "name": "stdout",
     "output_type": "stream",
     "text": [
      "[[-0.02172266  0.1548916  -0.34724541 -0.65382   ]\n",
      " [ 0.05728334 -0.63714316 -2.43718215  1.85767139]\n",
      " [-0.14927841  0.06458037  1.81895385  2.32908797]\n",
      " [-0.42788084 -0.32584782  2.22470563 -1.77273841]\n",
      " [ 0.25613997  0.22100056 -2.0508867  -2.44353477]\n",
      " [-0.50667441  0.89372857  1.30526913 -0.68592009]\n",
      " [ 0.52141611  0.77711458  1.00499383  0.96538047]\n",
      " [-0.66383615  0.63493587 -1.62047788  1.951082  ]]\n"
     ]
    }
   ],
   "source": [
    "def initialise_parameters(m, n, X):\n",
    "    C = np.zeros((m,n))\n",
    "    (row, col) = np.shape(X)\n",
    "    chosen_index = np.zeros(m)\n",
    "    \n",
    "    # Choose the first random centroid by select a random row\n",
    "    centroid_index = np.random.randint(0, row)\n",
    "    chosen_centroid = X[centroid_index]\n",
    "    C[0] = chosen_centroid\n",
    "    \n",
    "    # Use kmeans++ to find the other centroids\n",
    "    i = 0\n",
    "    while i < m-1:\n",
    "        another_centroid = total_Dx(X, C)\n",
    "        C[i+1] = another_centroid\n",
    "        i += 1\n",
    "        \n",
    "    return np.array(C)\n",
    "\n",
    "C = initialise_parameters(8, 4, X)\n",
    "print(C)"
   ]
  },
  {
   "cell_type": "markdown",
   "metadata": {},
   "source": [
    "Now we implement k-means.\n",
    "\n",
    "---\n",
    "   **TASK 2.2:** Create a function $E\\_step(C, X) = L$, where $L$ is a matrix of the same dimension of the dataset $X$.\n",
    "   \n",
    "   This function is is the **E-Step** (or \"assignment step\") mentioned earlier.\n",
    "\n",
    "---\n",
    "\n",
    "**HINT:** \n",
    "- https://stanford.edu/~cpiech/cs221/handouts/kmeans.html\n",
    "- https://en.wikipedia.org/wiki/K-means_clustering#Standard_algorithm\n",
    "- Each row of $L$ is a centroid taken from $C$."
   ]
  },
  {
   "cell_type": "code",
   "execution_count": 14,
   "metadata": {},
   "outputs": [
    {
     "data": {
      "image/png": "[encoded data removed]",
      "text/plain": [
       "<Figure size 432x288 with 1 Axes>"
      ]
     },
     "metadata": {
      "needs_background": "light"
     },
     "output_type": "display_data"
    }
   ],
   "source": [
    "def E_step(C, X):\n",
    "    L = np.zeros(X.shape)\n",
    "    \n",
    "    i = 0\n",
    "    while i < len(X):\n",
    "        data_point = X[i]\n",
    "        \n",
    "        # Calculate the distance from the data point to each centroid\n",
    "        distance_ls = [np.linalg.norm(data_point - centroids)**2 for centroids in C]\n",
    "        \n",
    "          \n",
    "        # Find the centroid with the minimum distance from the current data point\n",
    "        min_distance = min(distance_ls) \n",
    "        z = C[distance_ls.index(min_distance)]\n",
    "        \n",
    "        # Assignment \n",
    "        L[i] = z\n",
    "        i += 1\n",
    "    \n",
    "    return L\n",
    "\n",
    "L = E_step(C, X)\n",
    "plt.scatter(L[:, 0], L[:, 1])\n",
    "plt.show()"
   ]
  },
  {
   "cell_type": "markdown",
   "metadata": {},
   "source": [
    "---\n",
    "\n",
    "**TASK 2.3:** Create a function $M\\_step(C, X, L) = C$ which returns $C$ modified so that each centroid in $C$ is placed in the middle of the samples assigned to it. This is the **M-Step**.\n",
    "\n",
    "In other words, make each centroid in $C$ the average of all the samples which were found to be closest to it during the **E-step**. This is also called the \"update step\" for K-means.\n",
    "\n",
    "---\n",
    "\n",
    "**HINT:** https://docs.scipy.org/doc/numpy/reference/generated/numpy.array_equal.html"
   ]
  },
  {
   "cell_type": "code",
   "execution_count": 15,
   "metadata": {},
   "outputs": [
    {
     "data": {
      "text/plain": [
       "array([[ 0.02011004, -0.03331383, -0.45094925, -0.18109962],\n",
       "       [ 0.05169725, -0.13352664, -2.02712668,  1.69733602],\n",
       "       [-0.05121033, -0.00579613,  1.52889715,  1.77957979],\n",
       "       [-0.02027519, -0.0114009 ,  1.76075833, -1.72990207],\n",
       "       [ 0.02110326, -0.03111854, -1.73753137, -1.75947269],\n",
       "       [-0.07504623,  0.12156962,  1.08389059, -0.74741854],\n",
       "       [ 0.01875648,  0.05083002,  0.76855718,  0.8336889 ],\n",
       "       [-0.16406254,  0.27374291, -1.54186471,  1.50958264]])"
      ]
     },
     "execution_count": 15,
     "metadata": {},
     "output_type": "execute_result"
    }
   ],
   "source": [
    "def M_step(C, X, L):\n",
    "    total = []\n",
    "    count = []\n",
    "    \n",
    "    row, col = X.shape\n",
    "    for n in range(len(C)):\n",
    "        total.append(np.zeros(col))\n",
    "\n",
    "    count = [0 for n in range(len(C))]\n",
    "    \n",
    "    # Calculating the total and count for each cluster\n",
    "    for i in range(len(X)):\n",
    "        data_point = X[i]\n",
    "        \n",
    "        for n in range(len(C)):\n",
    "            if np.array_equal(L[i], C[n]):\n",
    "                total[n] += data_point\n",
    "                count[n] += 1\n",
    "\n",
    "    # Calculating the new centroids          \n",
    "    new_C = [total[n] / count[n] for n in range(len(total))]\n",
    "\n",
    "    return np.array(new_C)\n",
    "\n",
    "M_step(C, X, L)"
   ]
  },
  {
   "cell_type": "markdown",
   "metadata": {},
   "source": [
    "---\n",
    "**TASK 2.4:** Implement $kmeans(X, m, i) = C, L$ which takes a dataset $X$ (of any dimension) and a scalar value $m$, and uses the previous 3 functions you wrote to:\n",
    "- generate $m$ centroids.\n",
    "- iterate between the E and M steps $i$ times (ie, it iterates $i$ times) to classify the $m$ clusters.\n",
    "\n",
    "...and then returns:\n",
    "- $C$, the centers of the $m$ clusters after $i$ iterations.\n",
    "- $L$, the labels (centroid values) assigned to each sample in the dataset after $i$ iterations.\n",
    "---"
   ]
  },
  {
   "cell_type": "code",
   "execution_count": 16,
   "metadata": {},
   "outputs": [],
   "source": [
    "def kmeans(X, m, i):\n",
    "    L = np.zeros(X.shape)\n",
    "    C = np.zeros((m, X.shape[1]))\n",
    "    \n",
    "    (row, col) = np.shape(X)\n",
    "    \n",
    "    C = initialise_parameters(m, col, X)\n",
    "    \n",
    "    niter = 0\n",
    "    while niter < i:\n",
    "        L = E_step(C, X)\n",
    "        C = M_step(C, X, L)\n",
    "        niter += 1\n",
    "\n",
    "    return C, L"
   ]
  },
  {
   "cell_type": "markdown",
   "metadata": {},
   "source": [
    "---\n",
    "**Task 2.5:** The following code is to display the result. However, due to the limitation of our visualization tools, it can only presents the data in the two dimensional space. While the dimension of the dataset is 4, we really want to visualize the data in the two dimensional figure. Besides, the number of centroids is not determined yet.\n",
    "\n",
    "This task is ask you to modify the following code so as to give the best visualization effect. \n",
    "\n",
    "---\n",
    "**HINT:** You only need to change \"number of centroid\", \"dimension1\", \"dimension2\" to a number, which are quoted by \"#\" in the following code. "
   ]
  },
  {
   "cell_type": "code",
   "execution_count": 23,
   "metadata": {},
   "outputs": [
    {
     "name": "stdout",
     "output_type": "stream",
     "text": [
      "Initial Parameters:\n",
      "[[-0.02172266  0.1548916  -0.34724541 -0.65382   ]\n",
      " [ 0.05728334 -0.63714316 -2.43718215  1.85767139]\n",
      " [-0.14927841  0.06458037  1.81895385  2.32908797]\n",
      " [-0.42788084 -0.32584782  2.22470563 -1.77273841]\n",
      " [ 0.25613997  0.22100056 -2.0508867  -2.44353477]\n",
      " [-0.50667441  0.89372857  1.30526913 -0.68592009]\n",
      " [ 0.52141611  0.77711458  1.00499383  0.96538047]\n",
      " [-0.66383615  0.63493587 -1.62047788  1.951082  ]]\n",
      "\n",
      "Final Parameters:\n",
      "[[ 1.80182894e-02 -2.84548382e-02 -1.73314207e+00 -1.74422749e+00]\n",
      " [-1.08975530e-02  1.26213183e-02 -2.01514271e+00  1.74712290e+00]\n",
      " [-2.68311120e-03  1.72757846e-02  1.49565927e+00  1.75278340e+00]\n",
      " [-2.30938038e-02  1.71549863e-02  1.76052530e+00 -1.73716493e+00]\n",
      " [-1.61647729e-02  2.54639072e-02  1.00871817e+00 -7.26380789e-01]\n",
      " [-3.12595827e-02  7.66544119e-03  7.32444784e-01  7.23499116e-01]\n",
      " [-2.05541611e-02 -2.94840798e-03 -7.34726213e-01  7.52580271e-01]\n",
      " [-1.15362482e-03  3.56500354e-02 -5.02332315e-01 -7.41382419e-01]]\n"
     ]
    },
    {
     "data": {
      "image/png": "[encoded data removed]",
      "text/plain": [
       "<Figure size 432x288 with 1 Axes>"
      ]
     },
     "metadata": {
      "needs_background": "light"
     },
     "output_type": "display_data"
    }
   ],
   "source": [
    "m = 8 #number of centroid\n",
    "i = 100\n",
    "#CODE TO DISPLAY YOUR RESULTS.\n",
    "C_final, L_final = kmeans(X, m, i)\n",
    "print('Initial Parameters:')\n",
    "print(C)\n",
    "print('\\nFinal Parameters:')\n",
    "print(C_final)\n",
    "\n",
    "def allocator(X, L, c):\n",
    "    cluster = []\n",
    "    for i in range(L.shape[0]):\n",
    "        if np.array_equal(L[i, :], c):\n",
    "            cluster.append(X[i, :])\n",
    "    return np.asarray(cluster)\n",
    "\n",
    "colours = ['r', 'g', 'b', 'y', 'c', 'm', 'k', 'lime', 'wheat', 'fuchsia', 'pink']\n",
    "for i in range(m):\n",
    "    cluster = allocator(X, L_final, C_final[i, :])\n",
    "    plt.scatter(cluster[:,2], #dimension1\n",
    "                cluster[:,3], #dimension2\n",
    "                c=colours[i])\n",
    "plt.show()"
   ]
  },
  {
   "cell_type": "markdown",
   "metadata": {},
   "source": [
    "---\n",
    "**TASK 2.6:** Use your own words to explain how you found the number of centroids in Task 2.5 and how you might do this in the real world.\n",
    "\n",
    "---"
   ]
  },
  {
   "cell_type": "markdown",
   "metadata": {},
   "source": [
    "**Student's Note:** \n",
    "\n",
    "As mentioned above, the number of centroids (k) is more than 5 but less than 10. Thus, we will perform k-means clustering with each proposed value of k. After getting the final clusters, we calculate the loss function to determine how well the algorithm has performed. Plotting k vs its corresponding loss function, we use the elbow method to find the optimal k.  \n",
    "\n",
    "In the real world, before performing clustering on any given dataset, we want to investigate our data (number of dimensions, data quality, etc.) and the proximity of each data point to one another to determine **the range of k** there should be. We then perform k-means clustering on the data with this presumption in mind. After that, we calculate the sum of squares residuals (or loss function) and plot against the value of k (as we have done here) to determine k. \n",
    "\n",
    "As the implications of our clustering are greater in the real world, we may use the Elbow Method in conjuction with other validation methods (e.g. The Silhouette Method) to find the optimal k. "
   ]
  },
  {
   "cell_type": "code",
   "execution_count": 24,
   "metadata": {},
   "outputs": [],
   "source": [
    "def loss_func(X, L_final, C_final):\n",
    "    loss = 0\n",
    "    for i in range(len(X)):\n",
    "        data_point = X[i]\n",
    "        z = L_final[i]\n",
    "        loss += np.linalg.norm(data_point - z)**2\n",
    "    return loss"
   ]
  },
  {
   "cell_type": "code",
   "execution_count": 25,
   "metadata": {},
   "outputs": [],
   "source": [
    "K = np.arange(6, 10, 1)\n",
    "\n",
    "loss_info = []\n",
    "\n",
    "for k in K:\n",
    "    i = 80\n",
    "    C_final, L_final = kmeans(X, k, i)\n",
    "    loss = loss_func(X, L_final, C_final)\n",
    "    loss_info.append(loss)"
   ]
  },
  {
   "cell_type": "code",
   "execution_count": 26,
   "metadata": {},
   "outputs": [
    {
     "data": {
      "image/png": "[encoded data removed]",
      "text/plain": [
       "<Figure size 432x288 with 1 Axes>"
      ]
     },
     "metadata": {
      "needs_background": "light"
     },
     "output_type": "display_data"
    }
   ],
   "source": [
    "plt.plot(K, loss_info, 'bx-')\n",
    "plt.xlabel('Number of Clusters')\n",
    "plt.ylabel('Loss Function')\n",
    "plt.title('Optimal Number of Clusters: k = 8')\n",
    "plt.show()"
   ]
  },
  {
   "cell_type": "code",
   "execution_count": null,
   "metadata": {},
   "outputs": [],
   "source": []
  }
 ],
 "metadata": {
  "kernelspec": {
   "display_name": "Python 3",
   "language": "python",
   "name": "python3"
  },
  "language_info": {
   "codemirror_mode": {
    "name": "ipython",
    "version": 3
   },
   "file_extension": ".py",
   "mimetype": "text/x-python",
   "name": "python",
   "nbconvert_exporter": "python",
   "pygments_lexer": "ipython3",
   "version": "3.7.4"
  }
 },
 "nbformat": 4,
 "nbformat_minor": 2
}
